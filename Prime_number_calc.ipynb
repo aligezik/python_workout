{
  "nbformat": 4,
  "nbformat_minor": 0,
  "metadata": {
    "colab": {
      "name": "Prime number  calc.ipynb",
      "provenance": [],
      "collapsed_sections": [],
      "authorship_tag": "ABX9TyMu5T8457OlAUwHx5uuVcY9",
      "include_colab_link": true
    },
    "kernelspec": {
      "name": "python3",
      "display_name": "Python 3"
    },
    "language_info": {
      "name": "python"
    }
  },
  "cells": [
    {
      "cell_type": "markdown",
      "metadata": {
        "id": "view-in-github",
        "colab_type": "text"
      },
      "source": [
        "<a href=\"https://colab.research.google.com/github/c8340leo/python_workout/blob/main/Prime_number_calc.ipynb\" target=\"_parent\"><img src=\"https://colab.research.google.com/assets/colab-badge.svg\" alt=\"Open In Colab\"/></a>"
      ]
    },
    {
      "cell_type": "code",
      "metadata": {
        "colab": {
          "base_uri": "https://localhost:8080/"
        },
        "id": "k3x3v9q-tDJt",
        "outputId": "21f224ca-9851-46fb-fe4c-8e32a3760c7c"
      },
      "source": [
        "n=int(input('Enter a number to check if it is a prime number : '))\n",
        "count=0\n",
        "for i in range(1, n+1):\n",
        "    if n%i==0 : \n",
        "      count += 1\n",
        "    else : \n",
        "      count += 0\n",
        "if count < 3: \n",
        "  print(f'{n} is a prime number')\n",
        "else : \n",
        "  print(f'{n} is not a prime number')"
      ],
      "execution_count": null,
      "outputs": [
        {
          "output_type": "stream",
          "text": [
            "Enter a number to check if it is a prime number : 13\n",
            "13 is a prime number\n"
          ],
          "name": "stdout"
        }
      ]
    }
  ]
}